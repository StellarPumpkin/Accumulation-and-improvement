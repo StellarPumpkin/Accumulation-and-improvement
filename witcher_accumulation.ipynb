{
 "cells": [
  {
   "cell_type": "code",
   "execution_count": 1,
   "id": "6eecf2e4-4baf-4401-b65f-d9c8110bea0e",
   "metadata": {},
   "outputs": [],
   "source": [
    "import pandas as pd"
   ]
  },
  {
   "cell_type": "code",
   "execution_count": 2,
   "id": "a71c20d4-d695-4223-bac3-1da68b5854ae",
   "metadata": {},
   "outputs": [],
   "source": [
    "#open files\n",
    "witcher_df =  pd.read_csv('witcher_df.csv', sep=',')"
   ]
  },
  {
   "cell_type": "code",
   "execution_count": 34,
   "id": "0fdf6409-8512-4d9d-b161-1d76569bbd79",
   "metadata": {},
   "outputs": [],
   "source": [
    "witcher_books_series = witcher_books_series.drop_duplicates(subset=['Storylink'])"
   ]
  },
  {
   "cell_type": "code",
   "execution_count": 35,
   "id": "819f9d58-dec4-41a4-91ee-60e6ecd75087",
   "metadata": {},
   "outputs": [],
   "source": [
    "witcher_books_series = witcher_books_series.reset_index(drop=True)"
   ]
  },
  {
   "cell_type": "code",
   "execution_count": 4,
   "id": "03c5781a-f6c9-4796-b265-1282bca3083d",
   "metadata": {},
   "outputs": [],
   "source": [
    "#change postdate to date format\n",
    "witcher_df['Postdate'] = pd.to_datetime(witcher_df['Postdate'])"
   ]
  },
  {
   "cell_type": "markdown",
   "id": "ecb5cc96-e271-45f2-9133-6cc2962083ce",
   "metadata": {},
   "source": [
    "**PLOT NUM Of STORIES BY YEAR**"
   ]
  },
  {
   "cell_type": "code",
   "execution_count": 7,
   "id": "5c4dacda-c6ad-4e64-bf1d-dc349729878b",
   "metadata": {},
   "outputs": [
    {
     "data": {
      "text/plain": [
       "<AxesSubplot:xlabel='Postdate'>"
      ]
     },
     "execution_count": 7,
     "metadata": {},
     "output_type": "execute_result"
    },
    {
     "data": {
      "image/png": "[encoded data removed]",
      "text/plain": [
       "<Figure size 432x288 with 1 Axes>"
      ]
     },
     "metadata": {
      "needs_background": "light"
     },
     "output_type": "display_data"
    }
   ],
   "source": [
    "\n",
    "witcher_df['Title'].groupby([witcher_df['Postdate'].dt.year]).agg({'count'}).plot.bar()"
   ]
  },
  {
   "cell_type": "code",
   "execution_count": 8,
   "id": "6ef71f4d-5a37-497d-bcab-545a5cd12d52",
   "metadata": {},
   "outputs": [],
   "source": [
    "#counting number of tags per fanfic\n",
    "witcher_df['Tags_Count'] = witcher_df['Tags'].apply(lambda x: x.count('|')+1)"
   ]
  },
  {
   "cell_type": "markdown",
   "id": "466986ee-dc62-4810-a24f-ecaaed6425b9",
   "metadata": {},
   "source": [
    "**average number of tags per story**"
   ]
  },
  {
   "cell_type": "code",
   "execution_count": 9,
   "id": "affb9d76-e8f2-410f-b767-fdedf7451c7f",
   "metadata": {},
   "outputs": [
    {
     "data": {
      "text/plain": [
       "7.9861445093324175"
      ]
     },
     "execution_count": 9,
     "metadata": {},
     "output_type": "execute_result"
    }
   ],
   "source": [
    "witcher_df['Tags_Count'].mean()"
   ]
  },
  {
   "cell_type": "markdown",
   "id": "6e329556-bb12-4be3-b384-9ea44f2c35e6",
   "metadata": {},
   "source": [
    "**average of tags per year**"
   ]
  },
  {
   "cell_type": "code",
   "execution_count": 11,
   "id": "42ae2da3-b33b-4867-b1c2-30f0f5ed4125",
   "metadata": {},
   "outputs": [
    {
     "data": {
      "text/plain": [
       "Postdate\n",
       "2010     4.666667\n",
       "2011     3.555556\n",
       "2012     4.435484\n",
       "2013     4.596330\n",
       "2014     5.951389\n",
       "2015     5.128125\n",
       "2016     6.049462\n",
       "2017     7.053678\n",
       "2018     7.715180\n",
       "2019     8.381599\n",
       "2020     7.785714\n",
       "2021     8.918994\n",
       "2022    10.713816\n",
       "Name: Tags_Count, dtype: float64"
      ]
     },
     "execution_count": 11,
     "metadata": {},
     "output_type": "execute_result"
    }
   ],
   "source": [
    "witcher_df.groupby([witcher_df['Postdate'].dt.year])['Tags_Count'].mean()"
   ]
  },
  {
   "cell_type": "code",
   "execution_count": 12,
   "id": "f7b8fdf8-7d63-4d5a-860c-19c7bb70d3ff",
   "metadata": {},
   "outputs": [
    {
     "data": {
      "text/plain": [
       "<AxesSubplot:xlabel='Postdate'>"
      ]
     },
     "execution_count": 12,
     "metadata": {},
     "output_type": "execute_result"
    },
    {
     "data": {
      "image/png": "[encoded data removed]",
      "text/plain": [
       "<Figure size 432x288 with 1 Axes>"
      ]
     },
     "metadata": {
      "needs_background": "light"
     },
     "output_type": "display_data"
    }
   ],
   "source": [
    "witcher_df.groupby([witcher_df['Postdate'].dt.year])['Tags_Count'].mean().plot.bar()"
   ]
  },
  {
   "cell_type": "code",
   "execution_count": 16,
   "id": "bfe0aefb-4c07-41c4-ba92-5035e0d6a5f1",
   "metadata": {},
   "outputs": [
    {
     "data": {
      "text/plain": [
       "<AxesSubplot:xlabel='Postdate'>"
      ]
     },
     "execution_count": 16,
     "metadata": {},
     "output_type": "execute_result"
    },
    {
     "data": {
      "image/png": "[encoded data removed]",
      "text/plain": [
       "<Figure size 432x288 with 1 Axes>"
      ]
     },
     "metadata": {
      "needs_background": "light"
     },
     "output_type": "display_data"
    }
   ],
   "source": [
    "#sum of tags by year\n",
    "witcher_df.groupby([witcher_df['Postdate'].dt.year])['Tags_Count'].sum().plot.bar()"
   ]
  },
  {
   "cell_type": "markdown",
   "id": "d694d5b4-f510-4323-8999-ccbe1e646507",
   "metadata": {},
   "source": [
    "**NUMBER OF FANDOMS**"
   ]
  },
  {
   "cell_type": "code",
   "execution_count": 17,
   "id": "56c87975-b917-422b-a489-a92638aeccb9",
   "metadata": {},
   "outputs": [],
   "source": [
    "#counting number of fandoms per fanfic\n",
    "witcher_df['Fandom_Count'] = witcher_df['Fandom'].apply(lambda x: x.count(',')+1)"
   ]
  },
  {
   "cell_type": "code",
   "execution_count": 18,
   "id": "99d832a4-5b14-4a79-a33f-84ea1c7d97c8",
   "metadata": {},
   "outputs": [
    {
     "data": {
      "text/plain": [
       "1.9595786098706058"
      ]
     },
     "execution_count": 18,
     "metadata": {},
     "output_type": "execute_result"
    }
   ],
   "source": [
    "witcher_df['Fandom_Count'].mean()"
   ]
  },
  {
   "cell_type": "code",
   "execution_count": 19,
   "id": "9a85358a-acd3-45a2-ac43-7741af799dd7",
   "metadata": {},
   "outputs": [
    {
     "data": {
      "text/plain": [
       "<AxesSubplot:xlabel='Postdate'>"
      ]
     },
     "execution_count": 19,
     "metadata": {},
     "output_type": "execute_result"
    },
    {
     "data": {
      "image/png": "[encoded data removed]",
      "text/plain": [
       "<Figure size 432x288 with 1 Axes>"
      ]
     },
     "metadata": {
      "needs_background": "light"
     },
     "output_type": "display_data"
    }
   ],
   "source": [
    "witcher_df.groupby([witcher_df['Postdate'].dt.year])['Fandom_Count'].mean().plot.bar()"
   ]
  },
  {
   "cell_type": "code",
   "execution_count": 20,
   "id": "6a79d2e1-b846-4f4e-b413-36007e741829",
   "metadata": {},
   "outputs": [
    {
     "data": {
      "text/plain": [
       "<AxesSubplot:xlabel='Postdate'>"
      ]
     },
     "execution_count": 20,
     "metadata": {},
     "output_type": "execute_result"
    },
    {
     "data": {
      "image/png": "[encoded data removed]",
      "text/plain": [
       "<Figure size 432x288 with 1 Axes>"
      ]
     },
     "metadata": {
      "needs_background": "light"
     },
     "output_type": "display_data"
    }
   ],
   "source": [
    "witcher_df.groupby([witcher_df['Postdate'].dt.year])['Fandom_Count'].sum().plot.bar()"
   ]
  },
  {
   "cell_type": "markdown",
   "id": "d2e32adc-5e36-499d-a6e2-5c7f7b04b7ec",
   "metadata": {},
   "source": [
    "**NUMBER OF CHARACTERS AND PAIRINGS**"
   ]
  },
  {
   "cell_type": "code",
   "execution_count": 21,
   "id": "c1e239f2-aa1f-4c22-8e76-b7d7a2f4d351",
   "metadata": {},
   "outputs": [],
   "source": [
    "witcher_df['Charships'] = witcher_df['Charships'].astype('str')"
   ]
  },
  {
   "cell_type": "code",
   "execution_count": 22,
   "id": "8f284d5e-40d0-4607-ac1b-acfe0f6c5f06",
   "metadata": {},
   "outputs": [],
   "source": [
    "witcher_df['Char_Count'] = witcher_df['Charships'].apply(lambda x: x.count(',')+1)"
   ]
  },
  {
   "cell_type": "code",
   "execution_count": 23,
   "id": "7a005f41-a803-477f-ae3d-2b5c59f66ab1",
   "metadata": {},
   "outputs": [
    {
     "data": {
      "text/plain": [
       "3.201419901522959"
      ]
     },
     "execution_count": 23,
     "metadata": {},
     "output_type": "execute_result"
    }
   ],
   "source": [
    "witcher_df['Char_Count'].mean()"
   ]
  },
  {
   "cell_type": "code",
   "execution_count": 24,
   "id": "80de722d-867e-4f2d-aec4-74781c7b4e39",
   "metadata": {},
   "outputs": [
    {
     "data": {
      "text/plain": [
       "<AxesSubplot:xlabel='Postdate'>"
      ]
     },
     "execution_count": 24,
     "metadata": {},
     "output_type": "execute_result"
    },
    {
     "data": {
      "image/png": "[encoded data removed]",
      "text/plain": [
       "<Figure size 432x288 with 1 Axes>"
      ]
     },
     "metadata": {
      "needs_background": "light"
     },
     "output_type": "display_data"
    }
   ],
   "source": [
    "witcher_df.groupby([witcher_df['Postdate'].dt.year])['Char_Count'].mean().plot.bar()"
   ]
  },
  {
   "cell_type": "code",
   "execution_count": 25,
   "id": "75073818-46c1-4d75-8099-843c8adc2155",
   "metadata": {},
   "outputs": [
    {
     "data": {
      "text/plain": [
       "Title                     Однострочники по Ведьмаку              \n",
       "Storylink                                        /readfic/3984584\n",
       "AuthName                                       Anemone Coronaria \n",
       "AuthID                                            /authors/328959\n",
       "Shiptype                                                Смешанная\n",
       "Rating                                                          R\n",
       "Likes                                                         583\n",
       "Fandom           Сапковский Анджей «Ведьмак» (Сага о ведьмаке)...\n",
       "Charships        Сианна/Детлафф, Кагыр/Цири, Хьялмар/Керис, Эм...\n",
       "Length                               планируется Мини, написан...\n",
       "Postdate                                      2020-10-03 00:00:00\n",
       "Tags            AU|Ангст|Вымышленные существа|Драббл|Драма|Инц...\n",
       "Reviews                                                       425\n",
       "Followers                                                     374\n",
       "Collections                                                   104\n",
       "Content                        Ладная, крепкая девица, раскрас...\n",
       "Award           <div class=\"badge-with-icon badge-secondary ba...\n",
       "Translation                                                   NaN\n",
       "Tags_Count                                                     17\n",
       "Fandom_Count                                                    4\n",
       "Char_Count                                                     41\n",
       "Name: 2290, dtype: object"
      ]
     },
     "execution_count": 25,
     "metadata": {},
     "output_type": "execute_result"
    }
   ],
   "source": [
    "witcher_df.loc[witcher_df['Char_Count'].idxmax()]"
   ]
  },
  {
   "cell_type": "code",
   "execution_count": null,
   "id": "0d9ed96e-c2db-4462-8cb4-66354f8caf0b",
   "metadata": {},
   "outputs": [],
   "source": []
  },
  {
   "cell_type": "code",
   "execution_count": null,
   "id": "41ede571-29aa-457a-b130-f9ac49e05016",
   "metadata": {},
   "outputs": [],
   "source": []
  }
 ],
 "metadata": {
  "kernelspec": {
   "display_name": "Python 3",
   "language": "python",
   "name": "python3"
  },
  "language_info": {
   "codemirror_mode": {
    "name": "ipython",
    "version": 3
   },
   "file_extension": ".py",
   "mimetype": "text/x-python",
   "name": "python",
   "nbconvert_exporter": "python",
   "pygments_lexer": "ipython3",
   "version": "3.8.8"
  }
 },
 "nbformat": 4,
 "nbformat_minor": 5
}
