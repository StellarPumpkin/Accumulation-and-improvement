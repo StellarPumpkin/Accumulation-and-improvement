{
 "cells": [
  {
   "cell_type": "code",
   "execution_count": 1,
   "id": "9c414691-5fbc-4276-b7ed-c060369e9375",
   "metadata": {},
   "outputs": [],
   "source": [
    "import pandas as pd"
   ]
  },
  {
   "cell_type": "code",
   "execution_count": 2,
   "id": "888ec6b6-6705-4a46-b561-f01367df19fc",
   "metadata": {},
   "outputs": [],
   "source": [
    "thor1 = pd.read_csv('thor_1.csv', sep=',')\n",
    "thor2 = pd.read_csv('thor_2.csv', sep=',')\n",
    "thor3 = pd.read_csv('thor_3.csv', sep=',')\n",
    "thor4 = pd.read_csv('thor_4.csv', sep=',')\n",
    "thor5 = pd.read_csv('thor_5.csv', sep=',')\n",
    "thor6 = pd.read_csv('thor_6.csv', sep=',')\n",
    "thor7 = pd.read_csv('thor_7.csv', sep=',')"
   ]
  },
  {
   "cell_type": "code",
   "execution_count": 3,
   "id": "a6867060-e0f4-44df-8ae2-9b6046d632eb",
   "metadata": {},
   "outputs": [],
   "source": [
    "thor_df = pd.concat([thor1, thor2, thor3, thor4, thor5, thor6, thor7],ignore_index=True)"
   ]
  },
  {
   "cell_type": "code",
   "execution_count": 8,
   "id": "74a677ee-c920-410a-ae60-44f21708ebf0",
   "metadata": {},
   "outputs": [],
   "source": [
    "#cleaning duplicates\n",
    "thor_df = thor_df.drop_duplicates()\n",
    "thor_df = thor_df.reset_index(drop=True)"
   ]
  },
  {
   "cell_type": "code",
   "execution_count": 12,
   "id": "17d4f72e-e4ed-4cc2-8dab-dd64085d5da0",
   "metadata": {},
   "outputs": [],
   "source": [
    "#chaning date time format\n",
    "thor_df['Postdate'] = pd.to_datetime(thor_df['Postdate'])"
   ]
  },
  {
   "cell_type": "code",
   "execution_count": 14,
   "id": "a25c79ff-c0a8-4b78-8dd3-c524c7d6ee5a",
   "metadata": {},
   "outputs": [],
   "source": [
    "#changing floats to ints\n",
    "thor_df['Likes'] = thor_df['Likes'].fillna(0)\n",
    "thor_df['Likes'] = thor_df['Likes'].astype(int)\n",
    "thor_df['Reviews'] = thor_df['Reviews'].fillna(0)\n",
    "thor_df['Reviews'] = thor_df['Reviews'].astype(int)"
   ]
  },
  {
   "cell_type": "code",
   "execution_count": 30,
   "id": "3c07ced7-88d0-41d0-bb1e-744ca61a8619",
   "metadata": {},
   "outputs": [],
   "source": [
    "thor_df.to_csv(\"thor_df.csv\", sep=',', index=False)"
   ]
  },
  {
   "cell_type": "markdown",
   "id": "7182cf71-98e3-41a5-a00f-ce6192e0702e",
   "metadata": {},
   "source": [
    "**PLOT NUM Of STORIES BY YEAR**"
   ]
  },
  {
   "cell_type": "code",
   "execution_count": 15,
   "id": "4ad2b545-de29-4765-944f-ca68a8b16297",
   "metadata": {},
   "outputs": [
    {
     "data": {
      "text/plain": [
       "<AxesSubplot:xlabel='Postdate'>"
      ]
     },
     "execution_count": 15,
     "metadata": {},
     "output_type": "execute_result"
    },
    {
     "data": {
      "image/png": "[encoded data removed]",
      "text/plain": [
       "<Figure size 432x288 with 1 Axes>"
      ]
     },
     "metadata": {
      "needs_background": "light"
     },
     "output_type": "display_data"
    }
   ],
   "source": [
    "thor_df['Title'].groupby([thor_df['Postdate'].dt.year]).agg({'count'}).plot.bar()"
   ]
  },
  {
   "cell_type": "code",
   "execution_count": 16,
   "id": "1f4a0c34-a837-45c5-acfd-5e737c4c2d21",
   "metadata": {},
   "outputs": [],
   "source": [
    "#counting number of tags per fanfic\n",
    "thor_df['Tags_Count'] = thor_df['Tags'].apply(lambda x: x.count('|')+1)"
   ]
  },
  {
   "cell_type": "markdown",
   "id": "1c69017a-cb72-4917-9623-a323dbd95658",
   "metadata": {},
   "source": [
    "**average number of tags per story**"
   ]
  },
  {
   "cell_type": "code",
   "execution_count": 17,
   "id": "4051401d-968e-4ada-984e-e679ba76f913",
   "metadata": {},
   "outputs": [
    {
     "data": {
      "text/plain": [
       "7.6783686470018"
      ]
     },
     "execution_count": 17,
     "metadata": {},
     "output_type": "execute_result"
    }
   ],
   "source": [
    "thor_df['Tags_Count'].mean()"
   ]
  },
  {
   "cell_type": "markdown",
   "id": "d7f0904c-8140-41b8-bda8-6d1c9b743cd8",
   "metadata": {},
   "source": [
    "**average of tags per year**"
   ]
  },
  {
   "cell_type": "code",
   "execution_count": 18,
   "id": "ad96d499-dcd9-41d9-8d8f-0ab80514a880",
   "metadata": {},
   "outputs": [
    {
     "data": {
      "text/plain": [
       "Postdate\n",
       "2011     2.550000\n",
       "2012     4.674965\n",
       "2013     5.311196\n",
       "2014     5.905094\n",
       "2015     5.832765\n",
       "2016     7.280844\n",
       "2017     6.483962\n",
       "2018     7.134813\n",
       "2019     9.648693\n",
       "2020     9.445390\n",
       "2021     9.929286\n",
       "2022    13.445851\n",
       "Name: Tags_Count, dtype: float64"
      ]
     },
     "execution_count": 18,
     "metadata": {},
     "output_type": "execute_result"
    }
   ],
   "source": [
    "thor_df.groupby([thor_df['Postdate'].dt.year])['Tags_Count'].mean()"
   ]
  },
  {
   "cell_type": "code",
   "execution_count": 19,
   "id": "f79595a0-7eb1-4fc7-9fb3-ffd5b464d8fd",
   "metadata": {},
   "outputs": [
    {
     "data": {
      "text/plain": [
       "<AxesSubplot:xlabel='Postdate'>"
      ]
     },
     "execution_count": 19,
     "metadata": {},
     "output_type": "execute_result"
    },
    {
     "data": {
      "image/png": "[encoded data removed]",
      "text/plain": [
       "<Figure size 432x288 with 1 Axes>"
      ]
     },
     "metadata": {
      "needs_background": "light"
     },
     "output_type": "display_data"
    }
   ],
   "source": [
    "thor_df.groupby([thor_df['Postdate'].dt.year])['Tags_Count'].mean().plot.bar()"
   ]
  },
  {
   "cell_type": "code",
   "execution_count": 20,
   "id": "d472305f-2a9a-40fe-ac68-97e6cdbe2733",
   "metadata": {},
   "outputs": [
    {
     "data": {
      "text/plain": [
       "<AxesSubplot:xlabel='Postdate'>"
      ]
     },
     "execution_count": 20,
     "metadata": {},
     "output_type": "execute_result"
    },
    {
     "data": {
      "image/png": "[encoded data removed]",
      "text/plain": [
       "<Figure size 432x288 with 1 Axes>"
      ]
     },
     "metadata": {
      "needs_background": "light"
     },
     "output_type": "display_data"
    }
   ],
   "source": [
    "#sum of tags by year\n",
    "thor_df.groupby([thor_df['Postdate'].dt.year])['Tags_Count'].sum().plot.bar()"
   ]
  },
  {
   "cell_type": "markdown",
   "id": "6aa73758-7882-435f-aff5-ee42ee168cd5",
   "metadata": {},
   "source": [
    "**NUMBER OF FANDOMS**"
   ]
  },
  {
   "cell_type": "code",
   "execution_count": 21,
   "id": "8250fe41-97b4-4858-b477-6ad9a90b0f36",
   "metadata": {},
   "outputs": [],
   "source": [
    "#counting number of fandoms per fanfic\n",
    "thor_df['Fandom_Count'] = thor_df['Fandom'].apply(lambda x: x.count(',')+1)"
   ]
  },
  {
   "cell_type": "code",
   "execution_count": 22,
   "id": "a808469a-e814-4b89-ba63-2f9515f35e87",
   "metadata": {},
   "outputs": [
    {
     "data": {
      "text/plain": [
       "2.71292064810968"
      ]
     },
     "execution_count": 22,
     "metadata": {},
     "output_type": "execute_result"
    }
   ],
   "source": [
    "thor_df['Fandom_Count'].mean()"
   ]
  },
  {
   "cell_type": "code",
   "execution_count": 23,
   "id": "be15e23e-ba2d-417c-af31-bf2807b53ebe",
   "metadata": {},
   "outputs": [
    {
     "data": {
      "text/plain": [
       "<AxesSubplot:xlabel='Postdate'>"
      ]
     },
     "execution_count": 23,
     "metadata": {},
     "output_type": "execute_result"
    },
    {
     "data": {
      "image/png": "[encoded data removed]",
      "text/plain": [
       "<Figure size 432x288 with 1 Axes>"
      ]
     },
     "metadata": {
      "needs_background": "light"
     },
     "output_type": "display_data"
    }
   ],
   "source": [
    "thor_df.groupby([thor_df['Postdate'].dt.year])['Fandom_Count'].mean().plot.bar()"
   ]
  },
  {
   "cell_type": "code",
   "execution_count": 24,
   "id": "3bac9fed-9305-46ca-ae0b-b11fa1f1bf98",
   "metadata": {},
   "outputs": [
    {
     "data": {
      "text/plain": [
       "<AxesSubplot:xlabel='Postdate'>"
      ]
     },
     "execution_count": 24,
     "metadata": {},
     "output_type": "execute_result"
    },
    {
     "data": {
      "image/png": "[encoded data removed]",
      "text/plain": [
       "<Figure size 432x288 with 1 Axes>"
      ]
     },
     "metadata": {
      "needs_background": "light"
     },
     "output_type": "display_data"
    }
   ],
   "source": [
    "thor_df.groupby([thor_df['Postdate'].dt.year])['Fandom_Count'].sum().plot.bar()"
   ]
  },
  {
   "cell_type": "markdown",
   "id": "b4db2151-6354-4278-8178-ea86e1df5a0f",
   "metadata": {},
   "source": [
    "**NUMBER OF CHARACTERS AND PAIRINGS**"
   ]
  },
  {
   "cell_type": "code",
   "execution_count": 25,
   "id": "52ebd741-0156-4a8f-a06d-1d8800087d58",
   "metadata": {},
   "outputs": [],
   "source": [
    "thor_df['Charships'] = thor_df['Charships'].astype('str')"
   ]
  },
  {
   "cell_type": "code",
   "execution_count": 26,
   "id": "db5b0fdf-7fda-4a7e-9c64-aff3448730f6",
   "metadata": {},
   "outputs": [],
   "source": [
    "thor_df['Char_Count'] = thor_df['Charships'].apply(lambda x: x.count(',')+1)"
   ]
  },
  {
   "cell_type": "code",
   "execution_count": 27,
   "id": "85e974d6-ac06-4b96-922c-1be3b72cd735",
   "metadata": {},
   "outputs": [
    {
     "data": {
      "text/plain": [
       "4.273715551862623"
      ]
     },
     "execution_count": 27,
     "metadata": {},
     "output_type": "execute_result"
    }
   ],
   "source": [
    "thor_df['Char_Count'].mean()"
   ]
  },
  {
   "cell_type": "code",
   "execution_count": 28,
   "id": "ce269182-c23e-4ae6-90cd-643a66237cc2",
   "metadata": {},
   "outputs": [
    {
     "data": {
      "text/plain": [
       "<AxesSubplot:xlabel='Postdate'>"
      ]
     },
     "execution_count": 28,
     "metadata": {},
     "output_type": "execute_result"
    },
    {
     "data": {
      "image/png": "[encoded data removed]",
      "text/plain": [
       "<Figure size 432x288 with 1 Axes>"
      ]
     },
     "metadata": {
      "needs_background": "light"
     },
     "output_type": "display_data"
    }
   ],
   "source": [
    "thor_df.groupby([thor_df['Postdate'].dt.year])['Char_Count'].mean().plot.bar()"
   ]
  },
  {
   "cell_type": "code",
   "execution_count": null,
   "id": "33332518-0cb4-4063-be29-abe4fe8631ec",
   "metadata": {},
   "outputs": [],
   "source": []
  },
  {
   "cell_type": "code",
   "execution_count": null,
   "id": "698454de-0659-439e-bfa4-a4af041cb77f",
   "metadata": {},
   "outputs": [],
   "source": []
  }
 ],
 "metadata": {
  "kernelspec": {
   "display_name": "Python 3",
   "language": "python",
   "name": "python3"
  },
  "language_info": {
   "codemirror_mode": {
    "name": "ipython",
    "version": 3
   },
   "file_extension": ".py",
   "mimetype": "text/x-python",
   "name": "python",
   "nbconvert_exporter": "python",
   "pygments_lexer": "ipython3",
   "version": "3.8.8"
  }
 },
 "nbformat": 4,
 "nbformat_minor": 5
}
